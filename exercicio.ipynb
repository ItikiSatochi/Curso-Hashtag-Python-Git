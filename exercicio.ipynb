{
 "cells": [
  {
   "cell_type": "code",
   "execution_count": 6,
   "metadata": {},
   "outputs": [
    {
     "name": "stdout",
     "output_type": "stream",
     "text": [
      "Não batemos a meta!\n"
     ]
    }
   ],
   "source": [
    "meta = 5000\n",
    "qtd_venda = 3000\n",
    "\n",
    "if qtd_venda >= meta:\n",
    "    print(f'Batemos a meta de vendas, vendemos {qtd_venda} unidade. ')\n",
    "else:    \n",
    "    print('Não batemos a meta!')"
   ]
  },
  {
   "cell_type": "code",
   "execution_count": 2,
   "metadata": {},
   "outputs": [
    {
     "name": "stdout",
     "output_type": "stream",
     "text": [
      "A taxa foi de 0.02.\n"
     ]
    }
   ],
   "source": [
    "meta = 0.05 \n",
    "taxa = 0 \n",
    "rendimento = 0.10\n",
    "\n",
    "if rendimento > meta:\n",
    "    if rendimento > 0.20:\n",
    "        taxa = 0.04\n",
    "        print(f'A taxa foi de {taxa}.')\n",
    "    else:\n",
    "        taxa = 0.02\n",
    "        print(f'A taxa foi de {taxa}.')\n",
    "else:\n",
    "    taxa = 0 \n",
    "    print(f'A taxa foi de {taxa}.')"
   ]
  }
 ],
 "metadata": {
  "kernelspec": {
   "display_name": "Python 3",
   "language": "python",
   "name": "python3"
  },
  "language_info": {
   "codemirror_mode": {
    "name": "ipython",
    "version": 3
   },
   "file_extension": ".py",
   "mimetype": "text/x-python",
   "name": "python",
   "nbconvert_exporter": "python",
   "pygments_lexer": "ipython3",
   "version": "3.11.9"
  }
 },
 "nbformat": 4,
 "nbformat_minor": 2
}
