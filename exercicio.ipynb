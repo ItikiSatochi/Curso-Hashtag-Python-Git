{
 "cells": [
  {
   "cell_type": "code",
   "execution_count": 6,
   "metadata": {},
   "outputs": [
    {
     "name": "stdout",
     "output_type": "stream",
     "text": [
      "Não batemos a meta!\n"
     ]
    }
   ],
   "source": [
    "meta = 5000\n",
    "qtd_venda = 3000\n",
    "\n",
    "if qtd_venda >= meta:\n",
    "    print(f'Batemos a meta de vendas, vendemos {qtd_venda} unidade. ')\n",
    "else:    \n",
    "    print('Não batemos a meta!')"
   ]
  },
  {
   "cell_type": "code",
   "execution_count": 2,
   "metadata": {},
   "outputs": [
    {
     "name": "stdout",
     "output_type": "stream",
     "text": [
      "A taxa foi de 0.02.\n"
     ]
    }
   ],
   "source": [
    "meta = 0.05 \n",
    "taxa = 0 \n",
    "rendimento = 0.10\n",
    "\n",
    "if rendimento > meta:\n",
    "    if rendimento > 0.20:\n",
    "        taxa = 0.04\n",
    "        print(f'A taxa foi de {taxa}.')\n",
    "    else:\n",
    "        taxa = 0.02\n",
    "        print(f'A taxa foi de {taxa}.')\n",
    "else:\n",
    "    taxa = 0 \n",
    "    print(f'A taxa foi de {taxa}.')"
   ]
  },
  {
   "cell_type": "code",
   "execution_count": 5,
   "metadata": {},
   "outputs": [
    {
     "name": "stdout",
     "output_type": "stream",
     "text": [
      "ganhou 750.0 de bonus\n"
     ]
    }
   ],
   "source": [
    "meta = 20000\n",
    "vendas_realizadas = 25000\n",
    "\n",
    "\n",
    "if vendas_realizadas < meta:\n",
    "    print('não ganhou o bonus')\n",
    "elif vendas_realizadas > (meta * 2):\n",
    "    bonus = 0.07 * vendas_realizadas \n",
    "    print(f'Ganhou {bonus} de bonus')\n",
    "else:\n",
    "    bonus = 0.03 * vendas_realizadas\n",
    "    print(f'ganhou {bonus} de bonus')"
   ]
  },
  {
   "cell_type": "code",
   "execution_count": 14,
   "metadata": {},
   "outputs": [
    {
     "name": "stdout",
     "output_type": "stream",
     "text": [
      "Funcionário não ganhou bonus\n"
     ]
    }
   ],
   "source": [
    "meta_funcionario = 10000\n",
    "meta_loja = 250000\n",
    "vendas_funcionario = 9000\n",
    "vendas_loja = 250000\n",
    "\n",
    "if vendas_funcionario > meta_funcionario and vendas_loja > meta_loja:\n",
    "        bonus = 0.03 * vendas_funcionario\n",
    "        print(f'Bonus do funcionário foi de {bonus}')\n",
    "else:\n",
    "    print(f'Funcionário não ganhou bonus')"
   ]
  },
  {
   "cell_type": "code",
   "execution_count": 15,
   "metadata": {},
   "outputs": [
    {
     "name": "stdout",
     "output_type": "stream",
     "text": [
      "Funcionário não ganhou bonus\n"
     ]
    }
   ],
   "source": [
    "nota_funcionario = 5\n",
    "meta_nota = 9 \n",
    "\n",
    "if nota_funcionario >= meta_nota or (vendas_funcionario > meta_funcionario and vendas_loja > meta_loja):\n",
    "    bonus = 0.03 * vendas_funcionario\n",
    "    print(f'Bonus do funcionário foi de {bonus}')\n",
    "else:\n",
    "    print(f'Funcionário não ganhou bonus')\n"
   ]
  }
 ],
 "metadata": {
  "kernelspec": {
   "display_name": "Python 3",
   "language": "python",
   "name": "python3"
  },
  "language_info": {
   "codemirror_mode": {
    "name": "ipython",
    "version": 3
   },
   "file_extension": ".py",
   "mimetype": "text/x-python",
   "name": "python",
   "nbconvert_exporter": "python",
   "pygments_lexer": "ipython3",
   "version": "3.11.9"
  }
 },
 "nbformat": 4,
 "nbformat_minor": 2
}
