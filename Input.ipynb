{
 "cells": [
  {
   "cell_type": "code",
   "execution_count": 8,
   "metadata": {},
   "outputs": [
    {
     "name": "stdout",
     "output_type": "stream",
     "text": [
      "<pyodbc.Connection object at 0x0000011E4FDB4C60>\n",
      "Conexão Bem sucedida\n"
     ]
    }
   ],
   "source": [
    "# Importando as Bicliotecas #\n",
    "\n",
    "import pyodbc\n",
    "import pandas as pd\n",
    "\n",
    "# Conexão ao banco de dados (substitua pelos seus valores)#\n",
    "\n",
    "conn = pyodbc.connect(\n",
    "\t\"Driver={ODBC Driver 18 for SQL Server};\"\n",
    "\t\"Server=DESKTOP-0BOH544;\"\n",
    "\t\"Database=teste_inserir_dados;\"\n",
    "\t\"Trusted_Connection=yes;\"\n",
    "\t\"TrustServerCertificate=yes;\"\n",
    ")\n",
    "\n",
    "# Mostra a conexão #\n",
    "\n",
    "print(conn) \n",
    "print(\"Conexão Bem sucedida\")\n",
    "\n",
    "\n",
    "# Consulta SQL #\n",
    "\n",
    "query = \"\"\"\n",
    "BULK INSERT TEMP_TESTE_TAREFA_3\n",
    "\tFROM 'C:\\\\Users\\\\DROGALESTE\\\\OneDrive - rededrogaleste.com.br\\\\Minhas Validações Diego\\\\ATUAL.csv'\n",
    "\tWITH (\n",
    "    \tFIRSTROW = 2,\n",
    "    \tFIELDTERMINATOR = ';'\n",
    ")\n",
    "\"\"\"\n",
    "# Seleciona todos os campos\n",
    "\n",
    "# Executa a consulta e obtém os dados #\n",
    "\n",
    "conn.execute(query)\n",
    "\n",
    "# Cria um DataFrame do Pandas a partir dos resultados #\n",
    "\n",
    "#df = pd.DataFrame(cursor.fetchall(), columns=[desc[0] for desc in cursor.description])\n",
    "\n",
    "# Exibe o DataFrame #\n",
    "\n",
    "# print(df)  # Imprime o DataFrame no console\n",
    "\n",
    "# Se estiver em um ambiente interativo (como Jupyter Notebook) #\n",
    "# use 'display' para uma melhor visualização #\n",
    "\n",
    "# display(df)\n",
    "\n",
    "# Confirma as alterações\n",
    "conn.commit()\n",
    "\n",
    "# Fecha a conexão #\n",
    "\n",
    "conn.close()\n"
   ]
  },
  {
   "cell_type": "code",
   "execution_count": 5,
   "metadata": {},
   "outputs": [
    {
     "name": "stdout",
     "output_type": "stream",
     "text": [
      "O faturamento da loja foi 2000\n",
      "O custo da loja foi 500\n",
      "Assim o lucro da loja foi de1500\n",
      "O faturamento da loja foi 2000, e o custo da loja foi 500 sendo assim o lucro foi 1500\n"
     ]
    }
   ],
   "source": [
    "\n",
    "\n",
    "## Curso de Python Hashtag tipos de Variáveis ##\n",
    "\n",
    "faturamento = 2000\n",
    "custo = 500\n",
    "lucro = faturamento - custo\n",
    "print('O faturamento da loja foi ' + str(faturamento))\n",
    "print('O custo da loja foi ' + str(custo))\n",
    "print ('Assim o lucro da loja foi de' + str(lucro))\n",
    "\n",
    "print(f'O faturamento da loja foi {faturamento}, e o custo da loja foi {custo} sendo assim o lucro foi {lucro}')"
   ]
  },
  {
   "cell_type": "code",
   "execution_count": 7,
   "metadata": {},
   "outputs": [
    {
     "name": "stdout",
     "output_type": "stream",
     "text": [
      "0.20046\n"
     ]
    }
   ],
   "source": [
    "## Trocando os Tipo das String ##\n",
    "\n",
    "Faturamento = float(input('Digite o valor do Faturamento: '))\n",
    "Custo =       float(input('Digite o valor do Custo: '))\n",
    "\n",
    "print(Faturamento/custo)"
   ]
  },
  {
   "cell_type": "code",
   "execution_count": 1,
   "metadata": {},
   "outputs": [
    {
     "name": "stdout",
     "output_type": "stream",
     "text": [
      "O funcionário 1 ganhou 100.0 de bônus\n",
      "O funcionário 2 ganhou None de bônus\n",
      "O funcionário 3 ganhou 405.0 de bônus\n"
     ]
    }
   ],
   "source": [
    "vendas_funcionario1 = 1000\n",
    "vendas_funcionario2 = 770\n",
    "vendas_funcionario3 = 2700\n",
    "\n",
    "\n",
    "def calcular_bonus(vendas):\n",
    "    if vendas >= 2000:\n",
    "        return 0.15 * vendas\n",
    "    elif vendas >= 1000:\n",
    "        return 0.1 * vendas\n",
    "    else:\n",
    "        bonus = 0\n",
    "bonus_funcionario1 = calcular_bonus(vendas_funcionario1)\n",
    "bonus_funcionario2 = calcular_bonus(vendas_funcionario2)\n",
    "bonus_funcionario3 = calcular_bonus(vendas_funcionario3)\n",
    "\n",
    "print(f'O funcionário 1 ganhou {bonus_funcionario1} de bônus')\n",
    "print(f'O funcionário 2 ganhou {bonus_funcionario2} de bônus')\n",
    "print(f'O funcionário 3 ganhou {bonus_funcionario3} de bônus')"
   ]
  },
  {
   "cell_type": "code",
   "execution_count": 7,
   "metadata": {},
   "outputs": [
    {
     "name": "stdout",
     "output_type": "stream",
     "text": [
      "Seu lucro foi de 1090 reais\n"
     ]
    }
   ],
   "source": [
    "faturamento = input('Digite seu Faturamento: ')\n",
    "custo = input('Digite seu Custo: ')\n",
    "\n",
    "if faturamento and custo:\n",
    "    lucro = float(faturamento) - float(custo)\n",
    "    print(f'Seu lucro foi de {int(lucro)} reais')\n",
    "else:\n",
    "    print('Digite corretamente!')"
   ]
  },
  {
   "cell_type": "code",
   "execution_count": null,
   "metadata": {},
   "outputs": [],
   "source": []
  }
 ],
 "metadata": {
  "kernelspec": {
   "display_name": "Python 3",
   "language": "python",
   "name": "python3"
  },
  "language_info": {
   "codemirror_mode": {
    "name": "ipython",
    "version": 3
   },
   "file_extension": ".py",
   "mimetype": "text/x-python",
   "name": "python",
   "nbconvert_exporter": "python",
   "pygments_lexer": "ipython3",
   "version": "3.11.9"
  }
 },
 "nbformat": 4,
 "nbformat_minor": 2
}
