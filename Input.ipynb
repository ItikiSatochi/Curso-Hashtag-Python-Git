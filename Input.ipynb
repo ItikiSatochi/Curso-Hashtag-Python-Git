{
 "cells": [
  {
   "cell_type": "code",
   "execution_count": 8,
   "metadata": {},
   "outputs": [
    {
     "name": "stdout",
     "output_type": "stream",
     "text": [
      "<pyodbc.Connection object at 0x0000011E4FDB4C60>\n",
      "Conexão Bem sucedida\n"
     ]
    }
   ],
   "source": [
    "# Importando as Bicliotecas #\n",
    "\n",
    "import pyodbc\n",
    "import pandas as pd\n",
    "\n",
    "# Conexão ao banco de dados (substitua pelos seus valores)#\n",
    "\n",
    "conn = pyodbc.connect(\n",
    "\t\"Driver={ODBC Driver 18 for SQL Server};\"\n",
    "\t\"Server=DESKTOP-0BOH544;\"\n",
    "\t\"Database=teste_inserir_dados;\"\n",
    "\t\"Trusted_Connection=yes;\"\n",
    "\t\"TrustServerCertificate=yes;\"\n",
    ")\n",
    "\n",
    "# Mostra a conexão #\n",
    "\n",
    "print(conn) \n",
    "print(\"Conexão Bem sucedida\")\n",
    "\n",
    "\n",
    "# Consulta SQL #\n",
    "\n",
    "query = \"\"\"\n",
    "BULK INSERT TEMP_TESTE_TAREFA_3\n",
    "\tFROM 'C:\\\\Users\\\\DROGALESTE\\\\OneDrive - rededrogaleste.com.br\\\\Minhas Validações Diego\\\\ATUAL.csv'\n",
    "\tWITH (\n",
    "    \tFIRSTROW = 2,\n",
    "    \tFIELDTERMINATOR = ';'\n",
    ")\n",
    "\"\"\"\n",
    "# Seleciona todos os campos\n",
    "\n",
    "# Executa a consulta e obtém os dados #\n",
    "\n",
    "conn.execute(query)\n",
    "\n",
    "# Cria um DataFrame do Pandas a partir dos resultados #\n",
    "\n",
    "#df = pd.DataFrame(cursor.fetchall(), columns=[desc[0] for desc in cursor.description])\n",
    "\n",
    "# Exibe o DataFrame #\n",
    "\n",
    "# print(df)  # Imprime o DataFrame no console\n",
    "\n",
    "# Se estiver em um ambiente interativo (como Jupyter Notebook) #\n",
    "# use 'display' para uma melhor visualização #\n",
    "\n",
    "# display(df)\n",
    "\n",
    "# Confirma as alterações\n",
    "conn.commit()\n",
    "\n",
    "# Fecha a conexão #\n",
    "\n",
    "conn.close()\n"
   ]
  }
 ],
 "metadata": {
  "kernelspec": {
   "display_name": "Python 3",
   "language": "python",
   "name": "python3"
  },
  "language_info": {
   "codemirror_mode": {
    "name": "ipython",
    "version": 3
   },
   "file_extension": ".py",
   "mimetype": "text/x-python",
   "name": "python",
   "nbconvert_exporter": "python",
   "pygments_lexer": "ipython3",
   "version": "3.11.9"
  }
 },
 "nbformat": 4,
 "nbformat_minor": 2
}
